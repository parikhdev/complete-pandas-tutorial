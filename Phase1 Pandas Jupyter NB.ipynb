{
 "cells": [
  {
   "cell_type": "code",
   "execution_count": 58,
   "id": "44ba3331",
   "metadata": {},
   "outputs": [
    {
     "name": "stdout",
     "output_type": "stream",
     "text": [
      "   0  1  2\n",
      "0  1  2  3\n",
      "1  4  5  6\n",
      "2  7  8  9\n",
      "Head row is:\n",
      "   0  1  2\n",
      "0  1  2  3\n",
      "Tail row is:\n",
      "   0  1  2\n",
      "2  7  8  9\n"
     ]
    }
   ],
   "source": [
    "import pandas as pd\n",
    "import numpy as np\n",
    "\n",
    "# Create Data Frame -> pd.DataFrame\n",
    "df = pd.DataFrame([[1,2,3],[4,5,6],[7,8,9]])\n",
    "print(df)\n",
    "\n",
    "# View Head Rows -> Data_name.head(1) -> Print First 5 Rows\n",
    "print(f\"Head row is:\\n{df.head(1)}\")\n",
    "\n",
    "# View Tail Rows -> Data_name.tail(1) -> Print Last 5 Rows\n",
    "print(f\"Tail row is:\\n{df.tail(1)}\")"
   ]
  },
  {
   "cell_type": "code",
   "execution_count": 61,
   "id": "4da6d368",
   "metadata": {},
   "outputs": [
    {
     "name": "stdout",
     "output_type": "stream",
     "text": [
      "          Day Coffee Type  Units Sold\n",
      "0      Monday    Espresso          25\n",
      "1      Monday       Latte          15\n",
      "2     Tuesday    Espresso          30\n",
      "3     Tuesday       Latte          20\n",
      "4   Wednesday    Espresso          35\n",
      "5   Wednesday       Latte          25\n",
      "6    Thursday    Espresso          40\n",
      "7    Thursday       Latte          30\n",
      "8      Friday    Espresso          45\n",
      "9      Friday       Latte          35\n",
      "10   Saturday    Espresso          45\n",
      "11   Saturday       Latte          35\n",
      "12     Sunday    Espresso          45\n",
      "13     Sunday       Latte          35\n",
      "\n",
      "\n",
      "The result data in Parquet format is:\n",
      "     year    type discipline                     event                     as  \\\n",
      "0  1912.0  Summer     Tennis    Singles, Men (Olympic)  Jean-François Blanchy   \n",
      "1  1912.0  Summer     Tennis    Doubles, Men (Olympic)  Jean-François Blanchy   \n",
      "2  1920.0  Summer     Tennis    Singles, Men (Olympic)  Jean-François Blanchy   \n",
      "3  1920.0  Summer     Tennis  Doubles, Mixed (Olympic)  Jean-François Blanchy   \n",
      "4  1920.0  Summer     Tennis    Doubles, Men (Olympic)  Jean-François Blanchy   \n",
      "\n",
      "   athlete_id  noc             team  place   tied medal  \n",
      "0           1  FRA             None   17.0   True  None  \n",
      "1           1  FRA   Jean Montariol    NaN  False  None  \n",
      "2           1  FRA             None   32.0   True  None  \n",
      "3           1  FRA  Jeanne Vaussard    8.0   True  None  \n",
      "4           1  FRA  Jacques Brugnon    4.0  False  None  \n",
      "The Olympics data in Parquet format is:\n",
      "   athlete_id                   name   born_date    born_city  \\\n",
      "0           1  Jean-François Blanchy  1886-12-12     Bordeaux   \n",
      "1           2         Arnaud Boetsch  1969-04-01       Meulan   \n",
      "2           3           Jean Borotra  1898-08-13     Biarritz   \n",
      "3           4        Jacques Brugnon  1895-05-11  Paris VIIIe   \n",
      "4           5           Albert Canet  1878-04-17   Wandsworth   \n",
      "\n",
      "            born_region born_country     NOC  height_cm  weight_kg   died_date  \n",
      "0               Gironde          FRA  France        NaN        NaN  1960-10-02  \n",
      "1              Yvelines          FRA  France      183.0       76.0         NaN  \n",
      "2  Pyrénées-Atlantiques          FRA  France      183.0       76.0  1994-07-17  \n",
      "3                 Paris          FRA  France      168.0       64.0  1978-03-20  \n",
      "4               England          GBR  France        NaN        NaN  1930-07-25  \n"
     ]
    }
   ],
   "source": [
    "# Load Data Set -> pd.read_DataFormat('./FolderName/FileName')\n",
    "\n",
    "coffee_newdata = pd.read_csv('./warmup-data/coffee.csv')\n",
    "print(coffee_newdata)\n",
    "print(\"\\n\")\n",
    "\n",
    "results = pd.read_parquet('./data/results.parquet')\n",
    "print(f\"The result data in Parquet format is:\\n{results.head()}\")\n",
    "\n",
    "Olympics_data = pd.read_excel('data/olympics-data.xlsx')\n",
    "print(f\"The Olympics data in Parquet format is:\\n{Olympics_data.head()}\")\n"
   ]
  },
  {
   "cell_type": "code",
   "execution_count": null,
   "id": "09f52c95",
   "metadata": {},
   "outputs": [],
   "source": [
    "# Load Data into the CSV file -> df_name.to_csv('newFileName.csv')\n",
    "\n",
    "coffee_newdata.to_csv('coffee_newdata.csv')"
   ]
  },
  {
   "cell_type": "code",
   "execution_count": 13,
   "id": "f69282e7",
   "metadata": {},
   "outputs": [
    {
     "name": "stdout",
     "output_type": "stream",
     "text": [
      "<class 'pandas.core.frame.DataFrame'>\n",
      "RangeIndex: 14 entries, 0 to 13\n",
      "Data columns (total 3 columns):\n",
      " #   Column       Non-Null Count  Dtype \n",
      "---  ------       --------------  ----- \n",
      " 0   Day          14 non-null     object\n",
      " 1   Coffee Type  14 non-null     object\n",
      " 2   Units Sold   14 non-null     int64 \n",
      "dtypes: int64(1), object(2)\n",
      "memory usage: 468.0+ bytes\n"
     ]
    },
    {
     "data": {
      "text/plain": [
       "Day            0\n",
       "Coffee Type    0\n",
       "Units Sold     0\n",
       "dtype: int64"
      ]
     },
     "execution_count": 13,
     "metadata": {},
     "output_type": "execute_result"
    }
   ],
   "source": [
    "#Information about the DataFrame  -> df_name.info()\n",
    "coffee_newdata.info()\n",
    "\n",
    "# Removing Missing/Null values  ->  df_name.isnull().sum()\n",
    "coffee_newdata.isnull().sum()"
   ]
  },
  {
   "cell_type": "code",
   "execution_count": 62,
   "id": "e1fde46b",
   "metadata": {},
   "outputs": [
    {
     "name": "stdout",
     "output_type": "stream",
     "text": [
      "Day            14\n",
      "Coffee Type    14\n",
      "Units Sold     14\n",
      "dtype: int64\n",
      "\n",
      "\n",
      "Coffee Type\n",
      "Espresso    7\n",
      "Latte       7\n",
      "Name: count, dtype: int64\n",
      "\n",
      "\n"
     ]
    },
    {
     "data": {
      "text/html": [
       "<div>\n",
       "<style scoped>\n",
       "    .dataframe tbody tr th:only-of-type {\n",
       "        vertical-align: middle;\n",
       "    }\n",
       "\n",
       "    .dataframe tbody tr th {\n",
       "        vertical-align: top;\n",
       "    }\n",
       "\n",
       "    .dataframe thead th {\n",
       "        text-align: right;\n",
       "    }\n",
       "</style>\n",
       "<table border=\"1\" class=\"dataframe\">\n",
       "  <thead>\n",
       "    <tr style=\"text-align: right;\">\n",
       "      <th></th>\n",
       "      <th>Coffee Type</th>\n",
       "      <th>Units Sold</th>\n",
       "    </tr>\n",
       "    <tr>\n",
       "      <th>Day</th>\n",
       "      <th></th>\n",
       "      <th></th>\n",
       "    </tr>\n",
       "  </thead>\n",
       "  <tbody>\n",
       "    <tr>\n",
       "      <th>Friday</th>\n",
       "      <td>EspressoLatte</td>\n",
       "      <td>80</td>\n",
       "    </tr>\n",
       "    <tr>\n",
       "      <th>Monday</th>\n",
       "      <td>EspressoLatte</td>\n",
       "      <td>40</td>\n",
       "    </tr>\n",
       "    <tr>\n",
       "      <th>Saturday</th>\n",
       "      <td>EspressoLatte</td>\n",
       "      <td>80</td>\n",
       "    </tr>\n",
       "    <tr>\n",
       "      <th>Sunday</th>\n",
       "      <td>EspressoLatte</td>\n",
       "      <td>80</td>\n",
       "    </tr>\n",
       "    <tr>\n",
       "      <th>Thursday</th>\n",
       "      <td>EspressoLatte</td>\n",
       "      <td>70</td>\n",
       "    </tr>\n",
       "    <tr>\n",
       "      <th>Tuesday</th>\n",
       "      <td>EspressoLatte</td>\n",
       "      <td>50</td>\n",
       "    </tr>\n",
       "    <tr>\n",
       "      <th>Wednesday</th>\n",
       "      <td>EspressoLatte</td>\n",
       "      <td>60</td>\n",
       "    </tr>\n",
       "  </tbody>\n",
       "</table>\n",
       "</div>"
      ],
      "text/plain": [
       "             Coffee Type  Units Sold\n",
       "Day                                 \n",
       "Friday     EspressoLatte          80\n",
       "Monday     EspressoLatte          40\n",
       "Saturday   EspressoLatte          80\n",
       "Sunday     EspressoLatte          80\n",
       "Thursday   EspressoLatte          70\n",
       "Tuesday    EspressoLatte          50\n",
       "Wednesday  EspressoLatte          60"
      ]
     },
     "execution_count": 62,
     "metadata": {},
     "output_type": "execute_result"
    }
   ],
   "source": [
    "# Count all the number of values  ->  df_name.count()\n",
    "print(coffee_newdata.count())\n",
    "print(\"\\n\")\n",
    "\n",
    "# Counting all Values Based on the Groups  ->  df_name.value_counts('column_name')\n",
    "print(coffee_newdata.value_counts('Coffee Type'))\n",
    "print(\"\\n\")\n",
    "\n",
    "# Group the Values Based on the Mean  ->  df_name.groupby('column_name').mean()\n",
    "coffee_newdata.groupby(\"Coffee Type\").sum()\n",
    "coffee_newdata.groupby(\"Day\").sum()\n"
   ]
  },
  {
   "cell_type": "code",
   "execution_count": 101,
   "id": "d258ebb1",
   "metadata": {},
   "outputs": [
    {
     "name": "stdout",
     "output_type": "stream",
     "text": [
      "Day            MondayMondayTuesdayTuesdayWednesdayWednesdayTh...\n",
      "Coffee Type    EspressoLatteEspressoLatteEspressoLatteEspress...\n",
      "Units Sold                                                   460\n",
      "dtype: object\n",
      "\n",
      "\n",
      "Day            Wednesday\n",
      "Coffee Type        Latte\n",
      "Units Sold            45\n",
      "dtype: object\n"
     ]
    }
   ],
   "source": [
    "#Total Sum of all values\n",
    "print(coffee_newdata.sum())\n",
    "print(\"\\n\")\n",
    "\n",
    "# Max of the columns value\n",
    "print(coffee_newdata.max())"
   ]
  },
  {
   "cell_type": "code",
   "execution_count": 71,
   "id": "5e9f52c7",
   "metadata": {},
   "outputs": [
    {
     "name": "stdout",
     "output_type": "stream",
     "text": [
      "      Name   Age  Country  Weight\n",
      "0    Alice  25.0      USA    78.0\n",
      "1      Bob  30.0   Canada    79.0\n",
      "2  Charlie  32.0       UK    90.0\n",
      "3    Alpha   NaN   Greece    87.0\n",
      "4     Beta  45.0  Finland    96.0\n",
      "5    Gamma  67.0  Germany     NaN\n",
      "6    theta   NaN     None     NaN\n",
      "7    Delta  89.0    India    80.0\n",
      "\n",
      "\n",
      "<class 'pandas.core.frame.DataFrame'>\n",
      "RangeIndex: 8 entries, 0 to 7\n",
      "Data columns (total 4 columns):\n",
      " #   Column   Non-Null Count  Dtype  \n",
      "---  ------   --------------  -----  \n",
      " 0   Name     8 non-null      object \n",
      " 1   Age      6 non-null      float64\n",
      " 2   Country  7 non-null      object \n",
      " 3   Weight   6 non-null      float64\n",
      "dtypes: float64(2), object(2)\n",
      "memory usage: 388.0+ bytes\n",
      "None\n"
     ]
    },
    {
     "data": {
      "text/html": [
       "<div>\n",
       "<style scoped>\n",
       "    .dataframe tbody tr th:only-of-type {\n",
       "        vertical-align: middle;\n",
       "    }\n",
       "\n",
       "    .dataframe tbody tr th {\n",
       "        vertical-align: top;\n",
       "    }\n",
       "\n",
       "    .dataframe thead th {\n",
       "        text-align: right;\n",
       "    }\n",
       "</style>\n",
       "<table border=\"1\" class=\"dataframe\">\n",
       "  <thead>\n",
       "    <tr style=\"text-align: right;\">\n",
       "      <th></th>\n",
       "      <th>Name</th>\n",
       "      <th>Age</th>\n",
       "      <th>Country</th>\n",
       "      <th>Weight</th>\n",
       "    </tr>\n",
       "  </thead>\n",
       "  <tbody>\n",
       "    <tr>\n",
       "      <th>0</th>\n",
       "      <td>False</td>\n",
       "      <td>False</td>\n",
       "      <td>False</td>\n",
       "      <td>False</td>\n",
       "    </tr>\n",
       "    <tr>\n",
       "      <th>1</th>\n",
       "      <td>False</td>\n",
       "      <td>False</td>\n",
       "      <td>False</td>\n",
       "      <td>False</td>\n",
       "    </tr>\n",
       "    <tr>\n",
       "      <th>2</th>\n",
       "      <td>False</td>\n",
       "      <td>False</td>\n",
       "      <td>False</td>\n",
       "      <td>False</td>\n",
       "    </tr>\n",
       "    <tr>\n",
       "      <th>3</th>\n",
       "      <td>False</td>\n",
       "      <td>True</td>\n",
       "      <td>False</td>\n",
       "      <td>False</td>\n",
       "    </tr>\n",
       "    <tr>\n",
       "      <th>4</th>\n",
       "      <td>False</td>\n",
       "      <td>False</td>\n",
       "      <td>False</td>\n",
       "      <td>False</td>\n",
       "    </tr>\n",
       "    <tr>\n",
       "      <th>5</th>\n",
       "      <td>False</td>\n",
       "      <td>False</td>\n",
       "      <td>False</td>\n",
       "      <td>True</td>\n",
       "    </tr>\n",
       "    <tr>\n",
       "      <th>6</th>\n",
       "      <td>False</td>\n",
       "      <td>True</td>\n",
       "      <td>True</td>\n",
       "      <td>True</td>\n",
       "    </tr>\n",
       "    <tr>\n",
       "      <th>7</th>\n",
       "      <td>False</td>\n",
       "      <td>False</td>\n",
       "      <td>False</td>\n",
       "      <td>False</td>\n",
       "    </tr>\n",
       "  </tbody>\n",
       "</table>\n",
       "</div>"
      ],
      "text/plain": [
       "    Name    Age  Country  Weight\n",
       "0  False  False    False   False\n",
       "1  False  False    False   False\n",
       "2  False  False    False   False\n",
       "3  False   True    False   False\n",
       "4  False  False    False   False\n",
       "5  False  False    False    True\n",
       "6  False   True     True    True\n",
       "7  False  False    False   False"
      ]
     },
     "execution_count": 71,
     "metadata": {},
     "output_type": "execute_result"
    }
   ],
   "source": [
    "Data = {\n",
    "    \"Name\": ['Alice', 'Bob', 'Charlie', 'Alpha', 'Beta', 'Gamma', 'theta', 'Delta'],\n",
    "    \"Age\": [25, 30, 32, np.nan, 45, 67, np.nan, 89], # Missing Integer values as np.nan(not a number)\n",
    "    \"Country\":[\"USA\", \"Canada\", \"UK\", \"Greece\", \"Finland\", \"Germany\", None, \"India\"], # Missing Str values as None\n",
    "    \"Weight\": [78, 79, 90, 87, 96, np.nan, np.nan, 80]\n",
    "    }\n",
    "\n",
    "df= pd.DataFrame(Data)\n",
    "print(df)\n",
    "print(\"\\n\")\n",
    "\n",
    "# Info -> df.info()\n",
    "print(df.info())\n",
    "\n",
    "# Missing values -> df.isnull().sum()\n",
    "df.isnull()\n",
    "\n"
   ]
  },
  {
   "cell_type": "code",
   "execution_count": 52,
   "id": "d3bcc987",
   "metadata": {},
   "outputs": [
    {
     "name": "stdout",
     "output_type": "stream",
     "text": [
      "             Age\n",
      "count   3.000000\n",
      "mean   29.000000\n",
      "std     3.605551\n",
      "min    25.000000\n",
      "25%    27.500000\n",
      "50%    30.000000\n",
      "75%    31.000000\n",
      "max    32.000000\n",
      "\n",
      "\n",
      "Index(['Name', 'Age', 'Country'], dtype='object')\n",
      "\n",
      "\n",
      "RangeIndex(start=0, stop=3, step=1)\n",
      "\n",
      "\n",
      "          Day  Units Sold\n",
      "0      Monday          25\n",
      "1      Monday          15\n",
      "2     Tuesday          30\n",
      "3     Tuesday          20\n",
      "4   Wednesday          35\n",
      "5   Wednesday          25\n",
      "6    Thursday          40\n",
      "7    Thursday          30\n",
      "8      Friday          45\n",
      "9      Friday          35\n",
      "10   Saturday          45\n",
      "11   Saturday          35\n",
      "12     Sunday          45\n",
      "13     Sunday          35\n"
     ]
    }
   ],
   "source": [
    "# Describe -> df.describe()\n",
    "print(df.describe())\n",
    "print(\"\\n\")\n",
    "\n",
    "# Column -> df.columns\n",
    "print(df.columns)\n",
    "print(\"\\n\")\n",
    "\n",
    "# Index -> df.index\n",
    "print(df.index)\n",
    "print(\"\\n\")\n",
    "\n",
    "# Any 1 or 2.. Column only -> df[[\"Column_name\", \"Column_name\"]]\n",
    "print(coffee_newdata[[\"Day\", \"Units Sold\"]])"
   ]
  },
  {
   "cell_type": "code",
   "execution_count": 69,
   "id": "452e0ca9",
   "metadata": {},
   "outputs": [
    {
     "name": "stdout",
     "output_type": "stream",
     "text": [
      "This is set with multiple columns:\n",
      "{None, 'Finland', 'UK', 'USA', 'Greece', 'Canada', 'India', 'Germany'}\n",
      "This is list with single column:\n",
      "['USA', 'Canada', 'UK', 'Greece', 'Finland', 'Germany', None, 'India']\n",
      "This is tuple with single column:\n",
      "('USA', 'Canada', 'UK', 'Greece', 'Finland', 'Germany', None, 'India')\n",
      "This is dictionary with multiple columns:\n",
      "{0: 'USA', 1: 'Canada', 2: 'UK', 3: 'Greece', 4: 'Finland', 5: 'Germany', 6: None, 7: 'India'}\n",
      "8\n",
      "Name       Alice\n",
      "Age         25.0\n",
      "Country      USA\n",
      "Name: 0, dtype: object\n"
     ]
    }
   ],
   "source": [
    "# Set/List of the Countries -> set/list(df[column_name])\n",
    "print(f\"This is set with multiple columns:\\n{set(df[\"Country\"])}\")\n",
    "print(f\"This is list with single column:\\n{list(df[\"Country\"])}\") \n",
    "print(f\"This is tuple with single column:\\n{tuple(df[\"Country\"])}\") \n",
    "print(f\"This is dictionary with multiple columns:\\n{dict(df[\"Country\"])}\") \n",
    "\n",
    "# Length of the Countries -> len(df[coulumn_name])\n",
    "print(len(df[\"Country\"]))\n",
    "\n",
    "# Values at a Particular Index -> df.iloc[index_name]\n",
    "print(df.iloc[0])"
   ]
  },
  {
   "cell_type": "code",
   "execution_count": null,
   "id": "866b4bd1",
   "metadata": {},
   "outputs": [
    {
     "name": "stdout",
     "output_type": "stream",
     "text": [
      "      Name   Age  Country Alice Price    price\n",
      "0    Alice    30      USA   NaN   900      NaN\n",
      "1    Alice    30      USA   NaN   900      NaN\n",
      "2  Charlie  1130       UK   NaN        11300.0\n",
      "3    Alpha  1800   Greece   NaN         1800.0\n",
      "4     Beta  1200  Finland   NaN         1200.0\n",
      "5    Gamma  67.0  Germany   NaN            NaN\n",
      "6    theta   NaN     None   NaN            NaN\n",
      "7    Delta  2000    India   NaN         2000.0\n",
      "\n",
      "\n",
      "      Name   Age  Country Weight Alice Price    price\n",
      "0    Alice    30      USA     78   NaN   900      NaN\n",
      "1    Alice    30      USA     78   NaN   900      NaN\n",
      "2  Charlie  1130       UK   90.0   NaN        11300.0\n",
      "3    Alpha  1800   Greece   87.0   NaN         1800.0\n",
      "4     Beta  1200  Finland   96.0   NaN         1200.0\n",
      "5    Gamma  67.0  Germany    NaN   NaN            NaN\n",
      "6    theta   NaN     None    NaN   NaN            NaN\n",
      "7    Delta  2000    India   80.0   NaN         2000.0\n"
     ]
    }
   ],
   "source": [
    "# Drop/Remove any Column -> df.drop(columns=[\"Column_name\"], inplace = True) \"Use inplace = True, if permanently want to delete\"\n",
    "print(df.drop(columns = ['Weight']))\n",
    "print(\"\\n\")\n",
    "print(df)\n"
   ]
  },
  {
   "cell_type": "code",
   "execution_count": 83,
   "id": "53b3c092",
   "metadata": {},
   "outputs": [
    {
     "name": "stdout",
     "output_type": "stream",
     "text": [
      "    Name   Age Country  Weight\n",
      "0  Alice  25.0     USA    78.0\n",
      "3  Alpha   NaN  Greece    87.0\n",
      "\n",
      "\n",
      "    Name   Age  Country  Weight\n",
      "0  Alice  25.0      USA    78.0\n",
      "4   Beta  45.0  Finland    96.0\n",
      "\n",
      "\n",
      "      Name   Age  Country  Weight\n",
      "1      Bob  30.0   Canada    79.0\n",
      "2  Charlie  32.0       UK    90.0\n",
      "3    Alpha   NaN   Greece    87.0\n",
      "5    Gamma  67.0  Germany     NaN\n",
      "6    theta   NaN     None     NaN\n",
      "7    Delta  89.0    India    80.0\n",
      "\n",
      "\n"
     ]
    },
    {
     "data": {
      "text/html": [
       "<div>\n",
       "<style scoped>\n",
       "    .dataframe tbody tr th:only-of-type {\n",
       "        vertical-align: middle;\n",
       "    }\n",
       "\n",
       "    .dataframe tbody tr th {\n",
       "        vertical-align: top;\n",
       "    }\n",
       "\n",
       "    .dataframe thead th {\n",
       "        text-align: right;\n",
       "    }\n",
       "</style>\n",
       "<table border=\"1\" class=\"dataframe\">\n",
       "  <thead>\n",
       "    <tr style=\"text-align: right;\">\n",
       "      <th></th>\n",
       "      <th>Name</th>\n",
       "      <th>Age</th>\n",
       "      <th>Country</th>\n",
       "      <th>Weight</th>\n",
       "    </tr>\n",
       "  </thead>\n",
       "  <tbody>\n",
       "    <tr>\n",
       "      <th>3</th>\n",
       "      <td>Alpha</td>\n",
       "      <td>NaN</td>\n",
       "      <td>Greece</td>\n",
       "      <td>87.0</td>\n",
       "    </tr>\n",
       "    <tr>\n",
       "      <th>7</th>\n",
       "      <td>Delta</td>\n",
       "      <td>89.0</td>\n",
       "      <td>India</td>\n",
       "      <td>80.0</td>\n",
       "    </tr>\n",
       "  </tbody>\n",
       "</table>\n",
       "</div>"
      ],
      "text/plain": [
       "    Name   Age Country  Weight\n",
       "3  Alpha   NaN  Greece    87.0\n",
       "7  Delta  89.0   India    80.0"
      ]
     },
     "execution_count": 83,
     "metadata": {},
     "output_type": "execute_result"
    }
   ],
   "source": [
    "#Filtering -> df[df[\"Column_name\"].str.startswith/endswith(\"Letter\")]\n",
    "print(df[df[\"Name\"].str.startswith(\"A\")]) \n",
    "print(\"\\n\")\n",
    "print(df[df[\"Country\"].isin([\"USA\", \"Finland\"])])\n",
    "print(\"\\n\")\n",
    "# ~(Tilt operator) -> reverses the condition\n",
    "print(df[~df[\"Country\"].isin([\"USA\", \"Finland\"])])\n",
    "print(\"\\n\")\n",
    "\n",
    "#Filtering -> df[(df[\"Column_name\"] == \"value\") &/| (df[\"Column_name\"] == \"value\")]\n",
    "df[(df[\"Country\"] == \"India\") | (df[\"Weight\"] == 87)]\n"
   ]
  },
  {
   "cell_type": "code",
   "execution_count": 99,
   "id": "e7973520",
   "metadata": {},
   "outputs": [
    {
     "name": "stdout",
     "output_type": "stream",
     "text": [
      "    Name Age Country Weight Alice\n",
      "0  Alice  30     USA     78   NaN\n",
      "1  Alice  30     USA     78   NaN\n",
      "\n",
      "\n",
      "      Name   Age  Country Weight Alice\n",
      "0    Alice    30      USA     78   NaN\n",
      "1    Alice    30      USA     78   NaN\n",
      "2  Charlie  32.0       UK   90.0   NaN\n",
      "3    Alpha   NaN   Greece   87.0   NaN\n",
      "4     Beta  45.0  Finland   96.0   NaN\n",
      "5    Gamma  67.0  Germany    NaN   NaN\n",
      "6    theta   NaN     None    NaN   NaN\n",
      "7    Delta  89.0    India   80.0   NaN\n"
     ]
    }
   ],
   "source": [
    "# Updating -> df.loc[df[\"Column_name\"] == \"value\", Particular_Value] = \"New_Value\"\n",
    "df.loc[df[\"Country\"] == \"USA\", \"Age\"] = 30\n",
    "print(df.loc[df[\"Name\"] == \"Alice\"])\n",
    "print(\"\\n\")\n",
    "print(df)\n",
    "\n"
   ]
  },
  {
   "cell_type": "code",
   "execution_count": null,
   "id": "cc17c6b2",
   "metadata": {},
   "outputs": [
    {
     "name": "stdout",
     "output_type": "stream",
     "text": [
      "      Name   Age  Country Weight Alice Price    price\n",
      "0    Alice    30      USA     78   NaN   900      NaN\n",
      "1    Alice    30      USA     78   NaN   900      NaN\n",
      "2  Charlie  1130       UK   90.0   NaN        11300.0\n",
      "3    Alpha  1800   Greece   87.0   NaN         1800.0\n",
      "4     Beta  1200  Finland   96.0   NaN         1200.0\n",
      "5    Gamma  67.0  Germany    NaN   NaN            NaN\n",
      "6    theta   NaN     None    NaN   NaN            NaN\n",
      "7    Delta  2000    India   80.0   NaN         2000.0\n",
      "      Name   Age  Country Weight Alice Price    price\n",
      "0    Alice    30      USA     78   NaN   900      NaN\n",
      "1    Alice    30      USA     78   NaN   900      NaN\n",
      "2  Charlie  1130       UK   90.0   NaN        11300.0\n",
      "3    Alpha  1800   Greece   87.0   NaN         1800.0\n",
      "4     Beta  1200  Finland   96.0   NaN         1200.0\n",
      "5    Gamma  67.0  Germany    NaN   NaN            NaN\n",
      "7    Delta  2000    India   80.0   NaN         2000.0\n"
     ]
    }
   ],
   "source": [
    "# Save the DF into new file\n",
    "df.to_csv('Data.csv')\n",
    "\n",
    "# Add a Column Permanently to the data Frame -> df[\"Column_Name\"] = \"Value\"\n",
    "df[\"Price\"] = \" \"\n",
    "# Add a Column to the data Frame -> df.loc[df[\"Column_Name\"] == \"Value\", \"new_Column\"] = value\n",
    "df.loc[df[\"Country\"] == \"USA\", \"Price\"] = 900\n",
    "df.loc[df[\"Country\"] == \"UK\", \"price\"] = 11300\n",
    "df.loc[df[\"Country\"] == \"Finland\", \"price\"] = 1200\n",
    "df.loc[df[\"Country\"] == \"Greece\", \"price\"] = 1800\n",
    "df.loc[df[\"Country\"] == \"India\", \"price\"] = 2000\n",
    "df.loc[df[\"Country\"] == \"UK\", \"Age\"] = 1130\n",
    "\n",
    "print(df)\n",
    "\n",
    "# In pandas, a DataFrame has labeled axes: the index (axis=0) and the columns (axis=1).When you use axis=0 in a pandas operation like df.sum(axis=0), you are telling pandas to perform the operation along the index. Just like in NumPy, this means the calculation moves down the rows for each column. The default for most pandas methods is axis=0, so you often don't even need to specify it.\n",
    "\n",
    "\n",
    "print(df.drop(index=6, axis = 1))\n",
    "# All the edits made here will also edit the newly made file Data.csv\n",
    "\n"
   ]
  },
  {
   "cell_type": "code",
   "execution_count": 118,
   "id": "8830da43",
   "metadata": {},
   "outputs": [],
   "source": [
    "# Correlation -> df.corr()\n"
   ]
  }
 ],
 "metadata": {
  "kernelspec": {
   "display_name": "Python 3",
   "language": "python",
   "name": "python3"
  },
  "language_info": {
   "codemirror_mode": {
    "name": "ipython",
    "version": 3
   },
   "file_extension": ".py",
   "mimetype": "text/x-python",
   "name": "python",
   "nbconvert_exporter": "python",
   "pygments_lexer": "ipython3",
   "version": "3.13.5"
  }
 },
 "nbformat": 4,
 "nbformat_minor": 5
}
